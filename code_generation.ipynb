{
 "cells": [
  {
   "cell_type": "code",
   "execution_count": 1,
   "metadata": {},
   "outputs": [],
   "source": [
    "import sys\n",
    "from os.path import expanduser\n",
    "from os import sep\n",
    "\n",
    "# 加载自定义模块\n",
    "project = \"{}{}{}\".format(expanduser(\"~\"),sep,\"linux_tools_for_chinese\")\n",
    "sys.path.append(project)\n",
    "\n",
    "# TODO 系统主目录\n",
    "home = expanduser(\"~\")\n",
    "\n",
    "# TODO 路径拼接函数\n",
    "def join_dir(*dir_):\n",
    "    join_dir = \"\".join([\"{}{}\".format(d,sep) for d in dir_])\n",
    "    return \"{0}{1}{2}\".format(home,sep,join_dir)\n",
    "\n",
    "# TODO 分级文件夹目录\n",
    "# 项目目录\n",
    "project_name = \"linux_tools_for_chinese\"\n",
    "project_dir = join_dir(project_name)"
   ]
  },
  {
   "cell_type": "code",
   "execution_count": 2,
   "metadata": {},
   "outputs": [
    {
     "data": {
      "text/plain": [
       "'/Users/zhangjing/linux_tools_for_chinese'"
      ]
     },
     "execution_count": 2,
     "metadata": {},
     "output_type": "execute_result"
    }
   ],
   "source": [
    "project"
   ]
  },
  {
   "cell_type": "code",
   "execution_count": 3,
   "metadata": {},
   "outputs": [
    {
     "data": {
      "text/plain": [
       "'/Users/zhangjing'"
      ]
     },
     "execution_count": 3,
     "metadata": {},
     "output_type": "execute_result"
    }
   ],
   "source": [
    "home"
   ]
  },
  {
   "cell_type": "code",
   "execution_count": 4,
   "metadata": {},
   "outputs": [],
   "source": [
    "import os\n",
    "def is_number(uchar):\n",
    "        \"\"\"\n",
    "        判断一个unicode是否是数字\n",
    "        \"\"\"\n",
    "        if uchar >= u'\\u0030' and uchar<=u'\\u0039':\n",
    "                return True\n",
    "        else:\n",
    "                return False"
   ]
  },
  {
   "cell_type": "code",
   "execution_count": null,
   "metadata": {},
   "outputs": [],
   "source": []
  },
  {
   "cell_type": "code",
   "execution_count": 5,
   "metadata": {},
   "outputs": [
    {
     "name": "stdout",
     "output_type": "stream",
     "text": [
      "question_data_dir=join_dir(project_name,'4_question_data')\n",
      "python_functional_script_dir=join_dir(project_name,'7_python_functional_script')\n",
      "static_cache_dir=join_dir(project_name,'8_static_cache')\n",
      "ml_model_dir=join_dir(project_name,'3_ml_model')\n",
      "search_moduel_dir=join_dir(project_name,'5_search_moduel')\n",
      "data_preprocessing_dir=join_dir(project_name,'0_data_preprocessing')\n",
      "data_structure_dir=join_dir(project_name,'1_data_structure')\n",
      "math_module_dir=join_dir(project_name,'2_math_module')\n",
      "bash_functional_script_dir=join_dir(project_name,'6_bash_functional_script')\n"
     ]
    },
    {
     "data": {
      "text/plain": [
       "['0_data_preprocessing',\n",
       " '1_data_structure',\n",
       " '2_math_module',\n",
       " '3_ml_model',\n",
       " '4_question_data',\n",
       " '5_search_moduel',\n",
       " '6_bash_functional_script',\n",
       " '7_python_functional_script',\n",
       " '8_static_cache']"
      ]
     },
     "execution_count": 5,
     "metadata": {},
     "output_type": "execute_result"
    }
   ],
   "source": [
    "print_list = []\n",
    "dirs = []\n",
    "temp_number = -1\n",
    "for name in os.listdir(os.getcwd()):\n",
    "    temp_number += 1\n",
    "    if os.path.isdir(name) and is_number(name[0]):\n",
    "        varname = name\n",
    "        condeline = \"{0}{1}{2}{3}{4}{5}\".format(varname[2:],'_dir','=',\"join_dir(project_name,'\",varname,\"')\")\n",
    "        print_list.append(varname[2:]+\"_dir\")\n",
    "        dirs.append(varname)\n",
    "        print(condeline)\n",
    "        \n",
    "(\"print\"+repr(tuple(print_list))+\"\").replace(\"'\",\"\")\n",
    "sorted(dirs)"
   ]
  },
  {
   "cell_type": "code",
   "execution_count": 43,
   "metadata": {},
   "outputs": [
    {
     "name": "stderr",
     "output_type": "stream",
     "text": [
      "IOPub data rate exceeded.\n",
      "The notebook server will temporarily stop sending output\n",
      "to the client in order to avoid crashing it.\n",
      "To change this limit, set the config variable\n",
      "`--NotebookApp.iopub_data_rate_limit`.\n",
      "\n",
      "Current values:\n",
      "NotebookApp.iopub_data_rate_limit=1000000.0 (bytes/sec)\n",
      "NotebookApp.rate_limit_window=3.0 (secs)\n",
      "\n"
     ]
    },
    {
     "ename": "KeyboardInterrupt",
     "evalue": "",
     "output_type": "error",
     "traceback": [
      "\u001b[0;31m---------------------------------------------------------------------------\u001b[0m",
      "\u001b[0;31mKeyboardInterrupt\u001b[0m                         Traceback (most recent call last)",
      "\u001b[0;32m<ipython-input-43-97b4c2eaac91>\u001b[0m in \u001b[0;36m<module>\u001b[0;34m\u001b[0m\n\u001b[1;32m     24\u001b[0m \u001b[0;34m\u001b[0m\u001b[0m\n\u001b[1;32m     25\u001b[0m \u001b[0;34m\u001b[0m\u001b[0m\n\u001b[0;32m---> 26\u001b[0;31m \u001b[0mdeepin_listdir\u001b[0m\u001b[0;34m(\u001b[0m\u001b[0mos\u001b[0m\u001b[0;34m.\u001b[0m\u001b[0mgetcwd\u001b[0m\u001b[0;34m(\u001b[0m\u001b[0;34m)\u001b[0m\u001b[0;34m)\u001b[0m\u001b[0;34m\u001b[0m\u001b[0;34m\u001b[0m\u001b[0m\n\u001b[0m",
      "\u001b[0;32m<ipython-input-43-97b4c2eaac91>\u001b[0m in \u001b[0;36mdeepin_listdir\u001b[0;34m(dirpath)\u001b[0m\n\u001b[1;32m     20\u001b[0m         \u001b[0;32mfor\u001b[0m \u001b[0mname\u001b[0m \u001b[0;32min\u001b[0m \u001b[0mresult\u001b[0m\u001b[0;34m:\u001b[0m\u001b[0;34m\u001b[0m\u001b[0;34m\u001b[0m\u001b[0m\n\u001b[1;32m     21\u001b[0m             \u001b[0mresult\u001b[0m\u001b[0;34m+=\u001b[0m\u001b[0mlistdir\u001b[0m\u001b[0;34m(\u001b[0m\u001b[0mname\u001b[0m\u001b[0;34m)\u001b[0m\u001b[0;34m\u001b[0m\u001b[0;34m\u001b[0m\u001b[0m\n\u001b[0;32m---> 22\u001b[0;31m             \u001b[0mprint\u001b[0m\u001b[0;34m(\u001b[0m\u001b[0mresult\u001b[0m\u001b[0;34m)\u001b[0m\u001b[0;34m\u001b[0m\u001b[0;34m\u001b[0m\u001b[0m\n\u001b[0m\u001b[1;32m     23\u001b[0m     \u001b[0;32mreturn\u001b[0m \u001b[0mresult\u001b[0m\u001b[0;34m\u001b[0m\u001b[0;34m\u001b[0m\u001b[0m\n\u001b[1;32m     24\u001b[0m \u001b[0;34m\u001b[0m\u001b[0m\n",
      "\u001b[0;31mKeyboardInterrupt\u001b[0m: "
     ]
    }
   ],
   "source": [
    "import os\n",
    "\n",
    "def listdir(dirpath):\n",
    "    dirpath_list = [dirpath]\n",
    "    if os.path.isdir(dirpath):\n",
    "        for name in os.listdir(dirpath):\n",
    "            if os.path.isdir(name):\n",
    "                dirpath_ = \"\".join((dirpath,os.sep,name))\n",
    "                dirpath_list.append(dirpath_)\n",
    "        return dirpath_list            \n",
    "    else:\n",
    "        return False\n",
    "\n",
    "def deepin_listdir(dirpath):\n",
    "    temp_result = []\n",
    "    result = temp_result+listdir(dirpath)\n",
    "    if result == False:\n",
    "        return False\n",
    "    else:\n",
    "        for name in result:\n",
    "            result+=listdir(name)\n",
    "            print(result)\n",
    "    return result\n",
    "            \n",
    "        \n",
    "deepin_listdir(os.getcwd())"
   ]
  },
  {
   "cell_type": "code",
   "execution_count": null,
   "metadata": {},
   "outputs": [],
   "source": []
  },
  {
   "cell_type": "code",
   "execution_count": null,
   "metadata": {},
   "outputs": [],
   "source": []
  }
 ],
 "metadata": {
  "kernelspec": {
   "display_name": "Python 3",
   "language": "python",
   "name": "python3"
  },
  "language_info": {
   "codemirror_mode": {
    "name": "ipython",
    "version": 3
   },
   "file_extension": ".py",
   "mimetype": "text/x-python",
   "name": "python",
   "nbconvert_exporter": "python",
   "pygments_lexer": "ipython3",
   "version": "3.7.6"
  }
 },
 "nbformat": 4,
 "nbformat_minor": 4
}
