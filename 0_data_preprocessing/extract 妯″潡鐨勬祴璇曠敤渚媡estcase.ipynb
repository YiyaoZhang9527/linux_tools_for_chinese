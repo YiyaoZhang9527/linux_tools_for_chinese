{
 "cells": [
  {
   "cell_type": "code",
   "execution_count": 1,
   "metadata": {},
   "outputs": [],
   "source": [
    "import jieba\n",
    "import numpy as np\n",
    "import pandas as pd"
   ]
  },
  {
   "cell_type": "markdown",
   "metadata": {},
   "source": [
    "pd.read_csv(\"question_file.csv\")"
   ]
  },
  {
   "cell_type": "markdown",
   "metadata": {},
   "source": [
    "# 项目级别文件导入模版"
   ]
  },
  {
   "cell_type": "code",
   "execution_count": 2,
   "metadata": {},
   "outputs": [],
   "source": [
    "import sys\n",
    "from os.path import expanduser\n",
    "from os import sep\n",
    "project = \"{}{}{}\".format(expanduser(\"~\"),sep,\"linux_tools_for_chinese\")\n",
    "sys.path.append(project)\n",
    "from file_tools import srcdir,algorithm_dir,search_model_dir,bash_functional_script_dir,python_functional_script_dir,question_data_dir\n",
    "sys.path.append(algorithm_dir)\n",
    "from algorithm.tfidf import IDF ,TF,TFIDF"
   ]
  },
  {
   "cell_type": "code",
   "execution_count": 3,
   "metadata": {},
   "outputs": [
    {
     "output_type": "execute_result",
     "data": {
      "text/plain": [
       "('/home/manman/linux_tools_for_chinese/src/',\n",
       " '/home/manman/linux_tools_for_chinese/algorithm/',\n",
       " '/home/manman/linux_tools_for_chinese/search_model/',\n",
       " '/home/manman/linux_tools_for_chinese/bash_functional_script/',\n",
       " '/home/manman/linux_tools_for_chinese/python_functional_script/',\n",
       " '/home/manman/linux_tools_for_chinese/question_data/')"
      ]
     },
     "metadata": {},
     "execution_count": 3
    }
   ],
   "source": [
    "srcdir,algorithm_dir,search_model_dir,bash_functional_script_dir,python_functional_script_dir,question_data_dir"
   ]
  },
  {
   "cell_type": "markdown",
   "metadata": {},
   "source": [
    "# 数据预处理模块"
   ]
  },
  {
   "cell_type": "markdown",
   "metadata": {},
   "source": [
    "## 读取DF表格并选择dict结构"
   ]
  },
  {
   "cell_type": "code",
   "execution_count": 4,
   "metadata": {},
   "outputs": [
    {
     "output_type": "execute_result",
     "data": {
      "text/plain": [
       "{'文字说明': ['扫描本机所在网段上有哪些主机是存活的',\n",
       "  '端口扫描：输入目标主机ip，扫描某台主机开放了哪些端口',\n",
       "  '隐藏扫描，输入目标主机ip，只在目标主机上留下很少的日志信息',\n",
       "  'UDP端口扫描：输入目标主机ip，扫描目标主机开放了哪些UDP端口',\n",
       "  '操作系统识别：输入目标主机ip，查询是哪个系统',\n",
       "  '上传或者同步大型项目文件到服务器',\n",
       "  '检查本机网段内ip',\n",
       "  '查看本机网段内 激活/在线 的设备',\n",
       "  '查询本地公网ip',\n",
       "  '上传《网络工具》项目到GPU服务器',\n",
       "  '上传《网络工具》项目到华为服务器',\n",
       "  '查询系统运行时间',\n",
       "  '查询系统开机时间',\n",
       "  '查询系统历史启动时间',\n",
       "  '存储盘的位置',\n",
       "  '酒店开房数据集的位置'],\n",
       " '命令': ['sudo nmap -sP ',\n",
       "  'sudo nmap -sT ',\n",
       "  'sudo nmap -sS ',\n",
       "  'sudo nmap -sU ',\n",
       "  'sudo nmap -sS -O  ',\n",
       "  'rsync -avP <文件位置> <服务器ip>:<服务器内待存位置>',\n",
       "  'ifconfig | grep inet | grep netmask | grep b',\n",
       "  'fping -g <内网ip>/24',\n",
       "  'curl cip.cc',\n",
       "  'rsync -avP /Users/zhangjing/网络工具/ GPUserver:/home/manman/网络工具/',\n",
       "  'rsync -avP /Users/zhangjing/网络工具/ huawei:/root/网络工具/',\n",
       "  'uptime -p / cat /proc/uptime| awk -F. \\'{run_days=$1 / 86400;run_hour=($1 % 86400)/3600;run_minute=($1 % 3600)/60;run_second=$1 % 60;printf(\"系统已运行：%d天%d时%d分%d秒\",run_days,run_hour,run_minute,run_second)}\\'',\n",
       "  'who -r / date -d \"$(awk -F. \\'{print $1}\\' /proc/uptime) second ago\" +\"%Y-%m-%d %H:%M:%S\"',\n",
       "  'last reboot',\n",
       "  'cd /media/manman/',\n",
       "  'cd /media/manman/E6EEBD7CEEBD4599/大型数据集备份/酒店记录数据集']}"
      ]
     },
     "metadata": {},
     "execution_count": 4
    }
   ],
   "source": [
    "def change_list_from_DataFrame_func(table_path,column_names=[]):\n",
    "    table = pd.read_csv(table_path)\n",
    "    columns_list = [column for column in table.columns if 'Unnamed' in column]\n",
    "    newtable = table.drop(columns_list,axis=1)\n",
    "    newtable.to_csv(table_path)\n",
    "    dicts = newtable.to_dict()\n",
    "    return {column_name : [dicts[column_name][row] for row in dicts[column_name]] for column_name in column_names}\n",
    "        \n",
    "change_list_from_DataFrame_func(\"question_file.csv\",[\"文字说明\",\"命令\"])"
   ]
  },
  {
   "cell_type": "code",
   "execution_count": 5,
   "metadata": {},
   "outputs": [
    {
     "output_type": "execute_result",
     "data": {
      "text/plain": [
       "(['扫描本机所在网段上有哪些主机是存活的',\n",
       "  '端口扫描：输入目标主机ip，扫描某台主机开放了哪些端口',\n",
       "  '隐藏扫描，输入目标主机ip，只在目标主机上留下很少的日志信息',\n",
       "  'UDP端口扫描：输入目标主机ip，扫描目标主机开放了哪些UDP端口',\n",
       "  '操作系统识别：输入目标主机ip，查询是哪个系统',\n",
       "  '上传或者同步大型项目文件到服务器',\n",
       "  '检查本机网段内ip',\n",
       "  '查看本机网段内 激活/在线 的设备',\n",
       "  '查询本地公网ip',\n",
       "  '上传《网络工具》项目到GPU服务器',\n",
       "  '上传《网络工具》项目到华为服务器',\n",
       "  '查询系统运行时间',\n",
       "  '查询系统开机时间',\n",
       "  '查询系统历史启动时间',\n",
       "  '存储盘的位置',\n",
       "  '酒店开房数据集的位置'],\n",
       " ['sudo nmap -sP ',\n",
       "  'sudo nmap -sT ',\n",
       "  'sudo nmap -sS ',\n",
       "  'sudo nmap -sU ',\n",
       "  'sudo nmap -sS -O  ',\n",
       "  'rsync -avP <文件位置> <服务器ip>:<服务器内待存位置>',\n",
       "  'ifconfig | grep inet | grep netmask | grep b',\n",
       "  'fping -g <内网ip>/24',\n",
       "  'curl cip.cc',\n",
       "  'rsync -avP /Users/zhangjing/网络工具/ GPUserver:/home/manman/网络工具/',\n",
       "  'rsync -avP /Users/zhangjing/网络工具/ huawei:/root/网络工具/',\n",
       "  'uptime -p / cat /proc/uptime| awk -F. \\'{run_days=$1 / 86400;run_hour=($1 % 86400)/3600;run_minute=($1 % 3600)/60;run_second=$1 % 60;printf(\"系统已运行：%d天%d时%d分%d秒\",run_days,run_hour,run_minute,run_second)}\\'',\n",
       "  'who -r / date -d \"$(awk -F. \\'{print $1}\\' /proc/uptime) second ago\" +\"%Y-%m-%d %H:%M:%S\"',\n",
       "  'last reboot',\n",
       "  'cd /media/manman/',\n",
       "  'cd /media/manman/E6EEBD7CEEBD4599/大型数据集备份/酒店记录数据集'])"
      ]
     },
     "metadata": {},
     "execution_count": 5
    }
   ],
   "source": [
    "instructions_text = change_list_from_DataFrame_func(\"question_file.csv\",['文字说明'])['文字说明']\n",
    "command_encoder = change_list_from_DataFrame_func(\"question_file.csv\",['命令'])['命令']\n",
    "instructions_text,command_encoder"
   ]
  },
  {
   "cell_type": "markdown",
   "metadata": {},
   "source": [
    "## 连接上下文"
   ]
  },
  {
   "cell_type": "code",
   "execution_count": 6,
   "metadata": {},
   "outputs": [
    {
     "output_type": "execute_result",
     "data": {
      "text/plain": [
       "'扫描本机所在网段上有哪些主机是存活的端口扫描：输入目标主机ip，扫描某台主机开放了哪些端口隐藏扫描，输入目标主机ip，只在目标主机上留下很少的日志信息UDP端口扫描：输入目标主机ip，扫描目标主机开放了哪些UDP端口操作系统识别：输入目标主机ip，查询是哪个系统上传或者同步大型项目文件到服务器检查本机网段内ip查看本机网段内 激活/在线 的设备查询本地公网ip上传《网络工具》项目到GPU服务器上传《网络工具》项目到华为服务器查询系统运行时间查询系统开机时间查询系统历史启动时间存储盘的位置酒店开房数据集的位置'"
      ]
     },
     "metadata": {},
     "execution_count": 6
    }
   ],
   "source": [
    "def context_func(paper_list):\n",
    "    return \"\".join(paper_list)\n",
    "context_func(instructions_text)"
   ]
  },
  {
   "cell_type": "markdown",
   "metadata": {},
   "source": [
    "## 加载标准停用词（标点符号）"
   ]
  },
  {
   "cell_type": "code",
   "execution_count": 7,
   "metadata": {},
   "outputs": [],
   "source": [
    "import zhon\n",
    "from zhon import hanzi\n",
    "from zhon import pinyin\n",
    "stopowrds = list(hanzi.stops)+list(hanzi.non_stops)+list(pinyin.stops)+list(pinyin.non_stops)"
   ]
  },
  {
   "cell_type": "markdown",
   "metadata": {},
   "source": [
    "## 正则提取集合"
   ]
  },
  {
   "cell_type": "code",
   "execution_count": 8,
   "metadata": {},
   "outputs": [],
   "source": [
    "import re\n",
    "\n",
    "def extract_english(original):\n",
    "    '''\n",
    "    只要英文\n",
    "    '''\n",
    "    return re.findall(r'[a-zA-Z]+', original)\n",
    "\n",
    "def extract_chinese(original):\n",
    "    '''\n",
    "    只要中文\n",
    "    '''\n",
    "    return re.findall(u'[\\u4e00-\\u9fa5]',original)\n",
    "\n",
    "def extract_numbers(original):\n",
    "    '''\n",
    "    只要数字\n",
    "    '''\n",
    "    return re.findall(r'\\d+',original)\n",
    "\n",
    "def temp_extract(strings,symbles=stopowrds):\n",
    "    '''\n",
    "    临时删除\n",
    "    '''\n",
    "    srcrep = {i:'' for i in symbles }\n",
    "    rep = dict((re.escape(k), v) for k, v in srcrep.items())\n",
    "    pattern = re.compile(\"|\".join(rep.keys()))\n",
    "    return pattern.sub(lambda m: rep[re.escape(m.group(0))], strings)"
   ]
  },
  {
   "cell_type": "markdown",
   "metadata": {},
   "source": [
    "## 中英文字符判断"
   ]
  },
  {
   "cell_type": "code",
   "execution_count": 9,
   "metadata": {},
   "outputs": [
    {
     "output_type": "execute_result",
     "data": {
      "text/plain": [
       "(True, True, True, True)"
      ]
     },
     "metadata": {},
     "execution_count": 9
    }
   ],
   "source": [
    "def is_chinese(uchar):\n",
    "        \"\"\"\n",
    "        判断一个unicode是否是汉字\n",
    "        \"\"\"\n",
    "        if uchar >= u'\\u4e00' and uchar<=u'\\u9fa5':\n",
    "                return True\n",
    "        else:\n",
    "                return False\n",
    "\n",
    "def is_number(uchar):\n",
    "        \"\"\"\n",
    "        判断一个unicode是否是数字\n",
    "        \"\"\"\n",
    "        if uchar >= u'\\u0030' and uchar<=u'\\u0039':\n",
    "                return True\n",
    "        else:\n",
    "                return False\n",
    "\n",
    "def is_alphabet(uchar):\n",
    "        \"\"\"\n",
    "        判断一个unicode是否是英文字母\n",
    "        \"\"\"\n",
    "        if (uchar >= u'\\u0041' and uchar<=u'\\u005a') or (uchar >= u'\\u0061' and uchar<=u'\\u007a'):\n",
    "                return True\n",
    "        else:\n",
    "                return False\n",
    "\n",
    "def is_other(uchar):\n",
    "        \"\"\"\n",
    "        判断是否非汉字，数字和英文字符\n",
    "        \"\"\"\n",
    "        if not (is_chinese(uchar) or is_number(uchar) or is_alphabet(uchar)):\n",
    "                return True\n",
    "        else:\n",
    "                return False\n",
    "            \n",
    "is_chinese(\"韩\"),is_number(\"1\"),is_alphabet(\"chinese\"),is_other(\",\")"
   ]
  },
  {
   "cell_type": "markdown",
   "metadata": {},
   "source": [
    "# 不同字符类型分割"
   ]
  },
  {
   "cell_type": "code",
   "execution_count": 10,
   "metadata": {},
   "outputs": [
    {
     "output_type": "execute_result",
     "data": {
      "text/plain": [
       "['扫描本机所在网段上有哪些主机是存活的端口扫描',\n",
       " '：',\n",
       " '输入目标主机',\n",
       " 'ip',\n",
       " '，',\n",
       " '扫描某台主机开放了哪些端口隐藏扫描',\n",
       " '，',\n",
       " '输入目标主机',\n",
       " 'ip',\n",
       " '，',\n",
       " '只在目标主机上留下很少的日志信息',\n",
       " 'UDP',\n",
       " '端口扫描',\n",
       " '：',\n",
       " '输入目标主机',\n",
       " 'ip',\n",
       " '，',\n",
       " '扫描目标主机开放了哪些',\n",
       " 'UDP',\n",
       " '端口操作系统识别',\n",
       " '：',\n",
       " '输入目标主机',\n",
       " 'ip',\n",
       " '，',\n",
       " '查询是哪个系统上传或者同步大型项目文件到服务器检查本机网段内',\n",
       " 'ip',\n",
       " '查看本机网段内',\n",
       " ' ',\n",
       " '激活',\n",
       " '/',\n",
       " '在线',\n",
       " ' ',\n",
       " '的设备查询本地公网',\n",
       " 'ip',\n",
       " '上传',\n",
       " '《',\n",
       " '网络工具',\n",
       " '》',\n",
       " '项目到',\n",
       " 'GPU',\n",
       " '服务器上传',\n",
       " '《',\n",
       " '网络工具',\n",
       " '》',\n",
       " '项目到华为服务器查询系统运行时间查询系统开机时间查询系统历史启动时间存储盘的位置酒店开房数据集的位置']"
      ]
     },
     "metadata": {},
     "execution_count": 10
    }
   ],
   "source": [
    "def split_character_type(original):\n",
    "    '''\n",
    "    不同字符类型分割\n",
    "    '''\n",
    "    make = [0]\n",
    "    diff = []\n",
    "    n = 0\n",
    "    temp = \"\"\n",
    "    for char in original:\n",
    "        if is_chinese(char):\n",
    "            n = 0\n",
    "        elif is_number(char):\n",
    "            n = 1\n",
    "        elif is_alphabet(char):\n",
    "            n = 2\n",
    "        elif is_other(char):\n",
    "            n = 3\n",
    "        else:\n",
    "            n = 4\n",
    "        make.append(n)\n",
    "        if (make[-1]-make[-2]) == 0:\n",
    "            diff.append(char)\n",
    "        else:\n",
    "            diff.append(\"|\")\n",
    "            diff.append(char)      \n",
    "    return \"\".join(diff).split(\"|\")\n",
    "            \n",
    "split_character_type(context_func(instructions_text))"
   ]
  },
  {
   "cell_type": "markdown",
   "metadata": {},
   "source": [
    "## 中文分词"
   ]
  },
  {
   "cell_type": "code",
   "execution_count": 11,
   "metadata": {},
   "outputs": [
    {
     "output_type": "stream",
     "name": "stderr",
     "text": [
      "Building prefix dict from the default dictionary ...\n",
      "Loading model from cache /tmp/jieba.cache\n",
      "Loading model cost 0.480 seconds.\n",
      "Prefix dict has been built successfully.\n"
     ]
    },
    {
     "output_type": "execute_result",
     "data": {
      "text/plain": [
       "['上传', '《', '网络工具', '》', '项目', '到', 'GPU', '服务器']"
      ]
     },
     "metadata": {},
     "execution_count": 11
    }
   ],
   "source": [
    "def split_words_from_chinese_func(original):\n",
    "    '''\n",
    "    中文分词\n",
    "    '''\n",
    "    return list(jieba.cut(context_func(original)))\n",
    "split_words = split_words_from_chinese_func(instructions_text[9])\n",
    "split_words"
   ]
  },
  {
   "cell_type": "markdown",
   "metadata": {},
   "source": [
    "## 英文分词"
   ]
  },
  {
   "cell_type": "code",
   "execution_count": 12,
   "metadata": {},
   "outputs": [],
   "source": [
    "def split_words_from_english_func(original):\n",
    "    '''\n",
    "    英文空格分词\n",
    "    '''\n",
    "    return original.split()"
   ]
  },
  {
   "cell_type": "markdown",
   "metadata": {},
   "source": [
    "## 过滤停用词"
   ]
  },
  {
   "cell_type": "code",
   "execution_count": 13,
   "metadata": {},
   "outputs": [
    {
     "output_type": "execute_result",
     "data": {
      "text/plain": [
       "['上传', '网络工具', '项目', '到', 'GPU', '服务器']"
      ]
     },
     "metadata": {},
     "execution_count": 13
    }
   ],
   "source": [
    "def filter_stop_words(words_list,stop_words_dict = stopowrds):\n",
    "    '''\n",
    "    过滤停用词\n",
    "    '''\n",
    "    return [word for word in words_list if word not in stop_words_dict ]\n",
    "filter_stop_words(split_words)"
   ]
  },
  {
   "cell_type": "markdown",
   "metadata": {},
   "source": [
    "## 英文大小写转换"
   ]
  },
  {
   "cell_type": "code",
   "execution_count": 14,
   "metadata": {},
   "outputs": [
    {
     "output_type": "execute_result",
     "data": {
      "text/plain": [
       "'Www.什么Baidu.Com.123哈哈'"
      ]
     },
     "metadata": {},
     "execution_count": 14
    }
   ],
   "source": [
    "def case_conversion(msg,key=None):\n",
    "    '''\n",
    "    英文转换\n",
    "    '''\n",
    "    if key==None:\n",
    "        return None\n",
    "    return {\"upper\":msg.upper()  #upper()函数，将所有字母都转换成大写\n",
    "     ,\"lower\":msg.lower()  #lower()函数，将所有字母都转换成小写\n",
    "     ,\"capitalize\":msg.capitalize()  #capitalize()函数，将首字母都转换成大写，其余小写\n",
    "     ,\"title\":msg.title()}[key] # 所有分隔英文单词首字母大写\n",
    "\n",
    "case_conversion('www.什么BAIDU.com.123哈哈',\"title\")"
   ]
  },
  {
   "cell_type": "markdown",
   "metadata": {},
   "source": [
    "## ifidf 转句向量"
   ]
  },
  {
   "cell_type": "code",
   "execution_count": 15,
   "metadata": {},
   "outputs": [],
   "source": [
    "sys.path.append(algorithm_dir)\n",
    "from algorithm.tfidf import IDF,TF,TFIDF"
   ]
  },
  {
   "cell_type": "markdown",
   "metadata": {},
   "source": [
    "## 保存句向量模型"
   ]
  },
  {
   "cell_type": "code",
   "execution_count": null,
   "metadata": {},
   "outputs": [],
   "source": []
  },
  {
   "cell_type": "markdown",
   "metadata": {},
   "source": [
    "## 生成倒排表"
   ]
  },
  {
   "cell_type": "code",
   "execution_count": 1,
   "metadata": {},
   "outputs": [
    {
     "output_type": "stream",
     "name": "stderr",
     "text": [
      "Building prefix dict from the default dictionary ...\n",
      "Loading model from cache /tmp/jieba.cache\n",
      "Loading model cost 0.443 seconds.\n",
      "Prefix dict has been built successfully.\n"
     ]
    },
    {
     "output_type": "execute_result",
     "data": {
      "text/plain": [
       "['扫描',\n",
       " '本',\n",
       " '机',\n",
       " '所在',\n",
       " '网段',\n",
       " '上',\n",
       " '有',\n",
       " '哪些',\n",
       " '主机',\n",
       " '是',\n",
       " '存活',\n",
       " '的',\n",
       " '端口扫描',\n",
       " '：',\n",
       " '输入',\n",
       " '目标',\n",
       " '主机',\n",
       " 'ip',\n",
       " '，',\n",
       " '扫描',\n",
       " '某台',\n",
       " '主机',\n",
       " '开放',\n",
       " '了',\n",
       " '哪些',\n",
       " '端口',\n",
       " '隐藏',\n",
       " '扫描',\n",
       " '，',\n",
       " '输入',\n",
       " '目标',\n",
       " '主机',\n",
       " 'ip',\n",
       " '，',\n",
       " '只',\n",
       " '在',\n",
       " '目标',\n",
       " '主机',\n",
       " '上',\n",
       " '留下',\n",
       " '很少',\n",
       " '的',\n",
       " '日志',\n",
       " '信息',\n",
       " 'UDP',\n",
       " '端口扫描',\n",
       " '：',\n",
       " '输入',\n",
       " '目标',\n",
       " '主机',\n",
       " 'ip',\n",
       " '，',\n",
       " '扫描',\n",
       " '目标',\n",
       " '主机',\n",
       " '开放',\n",
       " '了',\n",
       " '哪些',\n",
       " 'UDP',\n",
       " '端口',\n",
       " '操作系统',\n",
       " '识别',\n",
       " '：',\n",
       " '输入',\n",
       " '目标',\n",
       " '主机',\n",
       " 'ip',\n",
       " '，',\n",
       " '查询',\n",
       " '是',\n",
       " '哪个',\n",
       " '系统',\n",
       " '上传',\n",
       " '或者',\n",
       " '同步',\n",
       " '大型项目',\n",
       " '文件',\n",
       " '到',\n",
       " '服务器',\n",
       " '检查',\n",
       " '本',\n",
       " '机',\n",
       " '网段',\n",
       " '内',\n",
       " 'ip',\n",
       " '查看',\n",
       " '本',\n",
       " '机',\n",
       " '网段',\n",
       " '内',\n",
       " ' ',\n",
       " '激活',\n",
       " '/',\n",
       " '在线',\n",
       " ' ',\n",
       " '的',\n",
       " '设备',\n",
       " '查询',\n",
       " '本地',\n",
       " '公网',\n",
       " 'ip',\n",
       " '上传',\n",
       " '《',\n",
       " '网络工具',\n",
       " '》',\n",
       " '项目',\n",
       " '到',\n",
       " 'GPU',\n",
       " '服务器',\n",
       " '上传',\n",
       " '《',\n",
       " '网络工具',\n",
       " '》',\n",
       " '项目',\n",
       " '到',\n",
       " '华为',\n",
       " '服务器',\n",
       " '查询',\n",
       " '系统',\n",
       " '运行',\n",
       " '时间',\n",
       " '查询',\n",
       " '系统',\n",
       " '开机',\n",
       " '时间',\n",
       " '查询',\n",
       " '系统',\n",
       " '历史',\n",
       " '启动',\n",
       " '时间',\n",
       " '存储',\n",
       " '盘',\n",
       " '的',\n",
       " '位置',\n",
       " '酒店',\n",
       " '开房',\n",
       " '数据',\n",
       " '集',\n",
       " '的',\n",
       " '位置']"
      ]
     },
     "metadata": {},
     "execution_count": 1
    }
   ],
   "source": []
  },
  {
   "cell_type": "markdown",
   "metadata": {},
   "source": [
    "## 保存倒排表"
   ]
  }
 ],
 "metadata": {
  "kernelspec": {
   "display_name": "Python 3",
   "language": "python",
   "name": "python3"
  },
  "language_info": {
   "codemirror_mode": {
    "name": "ipython",
    "version": 3
   },
   "file_extension": ".py",
   "mimetype": "text/x-python",
   "name": "python",
   "nbconvert_exporter": "python",
   "pygments_lexer": "ipython3",
   "version": "3.8.5-final"
  }
 },
 "nbformat": 4,
 "nbformat_minor": 4
}